{
 "cells": [
  {
   "cell_type": "code",
   "execution_count": 1,
   "id": "e35eb61d-3685-4a89-bbe8-1e2b93e058e0",
   "metadata": {},
   "outputs": [],
   "source": [
    "import itertools\n",
    "import numpy as np\n",
    "import pandas as pd\n",
    "import matplotlib.pyplot as plt\n",
    "import seaborn as sns\n",
    "import statsmodels.stats.api as sms\n",
    "from scipy.stats import ttest_1samp, shapiro, levene, ttest_ind, mannwhitneyu, pearsonr, spearmanr, kendalltau, f_oneway, kruskal\n",
    "from statsmodels.stats.proportion import proportions_ztest\n",
    "import warnings\n",
    "warnings.filterwarnings(\"ignore\")"
   ]
  },
  {
   "cell_type": "code",
   "execution_count": 58,
   "id": "37921ccf-feee-46ea-8be7-b9e14a67b3ac",
   "metadata": {},
   "outputs": [],
   "source": [
    "pd.set_option(\"display.max_columns\", None)\n",
    "pd.set_option(\"display.max_rows\", 10)\n",
    "pd.set_option(\"display.float_format\", lambda x: \"%.4f\" % x)"
   ]
  },
  {
   "cell_type": "code",
   "execution_count": 5,
   "id": "119a80d5-09fe-4460-bb70-c735c5d8ca3d",
   "metadata": {},
   "outputs": [],
   "source": [
    "df = pd.read_excel(\"ab_testing.xlsx\")"
   ]
  },
  {
   "cell_type": "code",
   "execution_count": 9,
   "id": "29b0afc3-ad77-4d93-b583-47e004fa85c0",
   "metadata": {},
   "outputs": [
    {
     "data": {
      "text/html": [
       "<div>\n",
       "<style scoped>\n",
       "    .dataframe tbody tr th:only-of-type {\n",
       "        vertical-align: middle;\n",
       "    }\n",
       "\n",
       "    .dataframe tbody tr th {\n",
       "        vertical-align: top;\n",
       "    }\n",
       "\n",
       "    .dataframe thead th {\n",
       "        text-align: right;\n",
       "    }\n",
       "</style>\n",
       "<table border=\"1\" class=\"dataframe\">\n",
       "  <thead>\n",
       "    <tr style=\"text-align: right;\">\n",
       "      <th></th>\n",
       "      <th>Impression</th>\n",
       "      <th>Click</th>\n",
       "      <th>Purchase</th>\n",
       "      <th>Earning</th>\n",
       "    </tr>\n",
       "  </thead>\n",
       "  <tbody>\n",
       "    <tr>\n",
       "      <th>0</th>\n",
       "      <td>82529.45927</td>\n",
       "      <td>6090.07732</td>\n",
       "      <td>665.21125</td>\n",
       "      <td>2311.27714</td>\n",
       "    </tr>\n",
       "    <tr>\n",
       "      <th>1</th>\n",
       "      <td>98050.45193</td>\n",
       "      <td>3382.86179</td>\n",
       "      <td>315.08489</td>\n",
       "      <td>1742.80686</td>\n",
       "    </tr>\n",
       "    <tr>\n",
       "      <th>2</th>\n",
       "      <td>82696.02355</td>\n",
       "      <td>4167.96575</td>\n",
       "      <td>458.08374</td>\n",
       "      <td>1797.82745</td>\n",
       "    </tr>\n",
       "    <tr>\n",
       "      <th>3</th>\n",
       "      <td>109914.40040</td>\n",
       "      <td>4910.88224</td>\n",
       "      <td>487.09077</td>\n",
       "      <td>1696.22918</td>\n",
       "    </tr>\n",
       "    <tr>\n",
       "      <th>4</th>\n",
       "      <td>108457.76263</td>\n",
       "      <td>5987.65581</td>\n",
       "      <td>441.03405</td>\n",
       "      <td>1543.72018</td>\n",
       "    </tr>\n",
       "    <tr>\n",
       "      <th>5</th>\n",
       "      <td>77773.63390</td>\n",
       "      <td>4462.20659</td>\n",
       "      <td>519.66966</td>\n",
       "      <td>2081.85185</td>\n",
       "    </tr>\n",
       "    <tr>\n",
       "      <th>6</th>\n",
       "      <td>95110.58627</td>\n",
       "      <td>3555.58067</td>\n",
       "      <td>512.92875</td>\n",
       "      <td>1815.00661</td>\n",
       "    </tr>\n",
       "    <tr>\n",
       "      <th>7</th>\n",
       "      <td>106649.18307</td>\n",
       "      <td>4358.02704</td>\n",
       "      <td>747.02012</td>\n",
       "      <td>1965.10040</td>\n",
       "    </tr>\n",
       "    <tr>\n",
       "      <th>8</th>\n",
       "      <td>122709.71659</td>\n",
       "      <td>5091.55896</td>\n",
       "      <td>745.98568</td>\n",
       "      <td>1651.66299</td>\n",
       "    </tr>\n",
       "    <tr>\n",
       "      <th>9</th>\n",
       "      <td>79498.24866</td>\n",
       "      <td>6653.84552</td>\n",
       "      <td>470.50137</td>\n",
       "      <td>2456.30424</td>\n",
       "    </tr>\n",
       "  </tbody>\n",
       "</table>\n",
       "</div>"
      ],
      "text/plain": [
       "    Impression      Click  Purchase    Earning\n",
       "0  82529.45927 6090.07732 665.21125 2311.27714\n",
       "1  98050.45193 3382.86179 315.08489 1742.80686\n",
       "2  82696.02355 4167.96575 458.08374 1797.82745\n",
       "3 109914.40040 4910.88224 487.09077 1696.22918\n",
       "4 108457.76263 5987.65581 441.03405 1543.72018\n",
       "5  77773.63390 4462.20659 519.66966 2081.85185\n",
       "6  95110.58627 3555.58067 512.92875 1815.00661\n",
       "7 106649.18307 4358.02704 747.02012 1965.10040\n",
       "8 122709.71659 5091.55896 745.98568 1651.66299\n",
       "9  79498.24866 6653.84552 470.50137 2456.30424"
      ]
     },
     "execution_count": 9,
     "metadata": {},
     "output_type": "execute_result"
    }
   ],
   "source": [
    "df.head(10) #impression:GörüntülEme sayısı, Earning:Elde edilen kazanç"
   ]
  },
  {
   "cell_type": "code",
   "execution_count": 13,
   "id": "1e8e981c-6078-428f-aff6-6c3f15c30cf4",
   "metadata": {},
   "outputs": [],
   "source": [
    "df_control = pd.read_excel(\"ab_testing.xlsx\", sheet_name=\"Control Group\")\n",
    "df_test = pd.read_excel(\"ab_testing.xlsx\", sheet_name=\"Test Group\")"
   ]
  },
  {
   "cell_type": "code",
   "execution_count": 37,
   "id": "7ee6de92-c691-4ba7-b0f3-b215d9712547",
   "metadata": {},
   "outputs": [],
   "source": [
    "def check_dataframe(dataframe):\n",
    "    print(\"----------------\")\n",
    "    print(dataframe.shape)\n",
    "    print(\"----------------\")\n",
    "    print(dataframe.dtypes)\n",
    "    print(\"----------------\")\n",
    "    print(dataframe.isnull().sum())"
   ]
  },
  {
   "cell_type": "code",
   "execution_count": 39,
   "id": "298ef552-4d0d-42a8-a9d3-395269e35cd8",
   "metadata": {},
   "outputs": [
    {
     "name": "stdout",
     "output_type": "stream",
     "text": [
      "----------------\n",
      "(40, 4)\n",
      "----------------\n",
      "Impression    float64\n",
      "Click         float64\n",
      "Purchase      float64\n",
      "Earning       float64\n",
      "dtype: object\n",
      "----------------\n",
      "Impression    0\n",
      "Click         0\n",
      "Purchase      0\n",
      "Earning       0\n",
      "dtype: int64\n"
     ]
    }
   ],
   "source": [
    "check_dataframe(df_control)"
   ]
  },
  {
   "cell_type": "code",
   "execution_count": 41,
   "id": "ee25612f-0982-4fd2-8c57-0486cb606733",
   "metadata": {},
   "outputs": [
    {
     "name": "stdout",
     "output_type": "stream",
     "text": [
      "----------------\n",
      "(40, 4)\n",
      "----------------\n",
      "Impression    float64\n",
      "Click         float64\n",
      "Purchase      float64\n",
      "Earning       float64\n",
      "dtype: object\n",
      "----------------\n",
      "Impression    0\n",
      "Click         0\n",
      "Purchase      0\n",
      "Earning       0\n",
      "dtype: int64\n"
     ]
    }
   ],
   "source": [
    "check_dataframe(df_test)"
   ]
  },
  {
   "cell_type": "code",
   "execution_count": 76,
   "id": "c6d4ce81-d738-4bb2-aa0a-7103e6a51eac",
   "metadata": {},
   "outputs": [],
   "source": [
    "df_control[\"group\"] = \"control\"\n",
    "df_test[\"group\"] = \"test\""
   ]
  },
  {
   "cell_type": "code",
   "execution_count": 78,
   "id": "738abf38-59d0-4ab1-9e36-0f5892e89bab",
   "metadata": {},
   "outputs": [],
   "source": [
    "df = pd.concat([df_control, df_test])"
   ]
  },
  {
   "cell_type": "code",
   "execution_count": 80,
   "id": "a9571b79-eee9-46b7-b2ef-74d62418ca46",
   "metadata": {},
   "outputs": [
    {
     "data": {
      "text/html": [
       "<div>\n",
       "<style scoped>\n",
       "    .dataframe tbody tr th:only-of-type {\n",
       "        vertical-align: middle;\n",
       "    }\n",
       "\n",
       "    .dataframe tbody tr th {\n",
       "        vertical-align: top;\n",
       "    }\n",
       "\n",
       "    .dataframe thead th {\n",
       "        text-align: right;\n",
       "    }\n",
       "</style>\n",
       "<table border=\"1\" class=\"dataframe\">\n",
       "  <thead>\n",
       "    <tr style=\"text-align: right;\">\n",
       "      <th></th>\n",
       "      <th>Impression</th>\n",
       "      <th>Click</th>\n",
       "      <th>Purchase</th>\n",
       "      <th>Earning</th>\n",
       "      <th>group</th>\n",
       "    </tr>\n",
       "  </thead>\n",
       "  <tbody>\n",
       "    <tr>\n",
       "      <th>0</th>\n",
       "      <td>82529.4593</td>\n",
       "      <td>6090.0773</td>\n",
       "      <td>665.2113</td>\n",
       "      <td>2311.2771</td>\n",
       "      <td>control</td>\n",
       "    </tr>\n",
       "    <tr>\n",
       "      <th>1</th>\n",
       "      <td>98050.4519</td>\n",
       "      <td>3382.8618</td>\n",
       "      <td>315.0849</td>\n",
       "      <td>1742.8069</td>\n",
       "      <td>control</td>\n",
       "    </tr>\n",
       "    <tr>\n",
       "      <th>2</th>\n",
       "      <td>82696.0235</td>\n",
       "      <td>4167.9657</td>\n",
       "      <td>458.0837</td>\n",
       "      <td>1797.8274</td>\n",
       "      <td>control</td>\n",
       "    </tr>\n",
       "    <tr>\n",
       "      <th>3</th>\n",
       "      <td>109914.4004</td>\n",
       "      <td>4910.8822</td>\n",
       "      <td>487.0908</td>\n",
       "      <td>1696.2292</td>\n",
       "      <td>control</td>\n",
       "    </tr>\n",
       "    <tr>\n",
       "      <th>4</th>\n",
       "      <td>108457.7626</td>\n",
       "      <td>5987.6558</td>\n",
       "      <td>441.0340</td>\n",
       "      <td>1543.7202</td>\n",
       "      <td>control</td>\n",
       "    </tr>\n",
       "    <tr>\n",
       "      <th>5</th>\n",
       "      <td>77773.6339</td>\n",
       "      <td>4462.2066</td>\n",
       "      <td>519.6697</td>\n",
       "      <td>2081.8519</td>\n",
       "      <td>control</td>\n",
       "    </tr>\n",
       "    <tr>\n",
       "      <th>6</th>\n",
       "      <td>95110.5863</td>\n",
       "      <td>3555.5807</td>\n",
       "      <td>512.9287</td>\n",
       "      <td>1815.0066</td>\n",
       "      <td>control</td>\n",
       "    </tr>\n",
       "    <tr>\n",
       "      <th>7</th>\n",
       "      <td>106649.1831</td>\n",
       "      <td>4358.0270</td>\n",
       "      <td>747.0201</td>\n",
       "      <td>1965.1004</td>\n",
       "      <td>control</td>\n",
       "    </tr>\n",
       "    <tr>\n",
       "      <th>8</th>\n",
       "      <td>122709.7166</td>\n",
       "      <td>5091.5590</td>\n",
       "      <td>745.9857</td>\n",
       "      <td>1651.6630</td>\n",
       "      <td>control</td>\n",
       "    </tr>\n",
       "    <tr>\n",
       "      <th>9</th>\n",
       "      <td>79498.2487</td>\n",
       "      <td>6653.8455</td>\n",
       "      <td>470.5014</td>\n",
       "      <td>2456.3042</td>\n",
       "      <td>control</td>\n",
       "    </tr>\n",
       "  </tbody>\n",
       "</table>\n",
       "</div>"
      ],
      "text/plain": [
       "   Impression     Click  Purchase   Earning    group\n",
       "0  82529.4593 6090.0773  665.2113 2311.2771  control\n",
       "1  98050.4519 3382.8618  315.0849 1742.8069  control\n",
       "2  82696.0235 4167.9657  458.0837 1797.8274  control\n",
       "3 109914.4004 4910.8822  487.0908 1696.2292  control\n",
       "4 108457.7626 5987.6558  441.0340 1543.7202  control\n",
       "5  77773.6339 4462.2066  519.6697 2081.8519  control\n",
       "6  95110.5863 3555.5807  512.9287 1815.0066  control\n",
       "7 106649.1831 4358.0270  747.0201 1965.1004  control\n",
       "8 122709.7166 5091.5590  745.9857 1651.6630  control\n",
       "9  79498.2487 6653.8455  470.5014 2456.3042  control"
      ]
     },
     "execution_count": 80,
     "metadata": {},
     "output_type": "execute_result"
    }
   ],
   "source": [
    "df.head(10)"
   ]
  },
  {
   "cell_type": "markdown",
   "id": "729729c0-1d41-4763-9ecd-ca33c426b1c5",
   "metadata": {},
   "source": [
    "#### Hipotez kurma"
   ]
  },
  {
   "cell_type": "code",
   "execution_count": 83,
   "id": "344929e7-5589-4c86-b736-d972f98a27ef",
   "metadata": {},
   "outputs": [],
   "source": [
    "#H0: m1=m2\n",
    "#H1: m1!=m2"
   ]
  },
  {
   "cell_type": "code",
   "execution_count": 87,
   "id": "4da088a2-c043-444c-a580-8ca5daf3b62f",
   "metadata": {},
   "outputs": [
    {
     "data": {
      "text/html": [
       "<div>\n",
       "<style scoped>\n",
       "    .dataframe tbody tr th:only-of-type {\n",
       "        vertical-align: middle;\n",
       "    }\n",
       "\n",
       "    .dataframe tbody tr th {\n",
       "        vertical-align: top;\n",
       "    }\n",
       "\n",
       "    .dataframe thead th {\n",
       "        text-align: right;\n",
       "    }\n",
       "</style>\n",
       "<table border=\"1\" class=\"dataframe\">\n",
       "  <thead>\n",
       "    <tr style=\"text-align: right;\">\n",
       "      <th></th>\n",
       "      <th>Purchase</th>\n",
       "    </tr>\n",
       "    <tr>\n",
       "      <th>group</th>\n",
       "      <th></th>\n",
       "    </tr>\n",
       "  </thead>\n",
       "  <tbody>\n",
       "    <tr>\n",
       "      <th>test</th>\n",
       "      <td>582.1061</td>\n",
       "    </tr>\n",
       "    <tr>\n",
       "      <th>control</th>\n",
       "      <td>550.8941</td>\n",
       "    </tr>\n",
       "  </tbody>\n",
       "</table>\n",
       "</div>"
      ],
      "text/plain": [
       "         Purchase\n",
       "group            \n",
       "test     582.1061\n",
       "control  550.8941"
      ]
     },
     "execution_count": 87,
     "metadata": {},
     "output_type": "execute_result"
    }
   ],
   "source": [
    "df.groupby(\"group\").agg({\"Purchase\" : \"mean\"}).sort_values(\"Purchase\",ascending=False).head(20)"
   ]
  },
  {
   "cell_type": "markdown",
   "id": "22b3f8b4-4da8-4a39-ab49-4af9649b98fd",
   "metadata": {},
   "source": [
    "#### Varsayım Testi"
   ]
  },
  {
   "cell_type": "markdown",
   "id": "651d73b4-ac3d-46e2-a372-7346c09832c6",
   "metadata": {},
   "source": [
    "##### -Normal Varsayımı\n",
    "##### -Varyans Homojenliği"
   ]
  },
  {
   "cell_type": "code",
   "execution_count": 70,
   "id": "68cd561f-7b82-4cbe-92f1-831635efa69e",
   "metadata": {},
   "outputs": [],
   "source": [
    "#Normal Varsayım\n",
    "#H0: Normal dağılım varsayım sağlanmaktadır \n",
    "#H1: Normal dağılım varsayımı sağlanmamaktadır \n",
    "#p_value < 0.05 H0 Red"
   ]
  },
  {
   "cell_type": "code",
   "execution_count": 89,
   "id": "52a54ebe-66ed-4f55-8537-72f17b163e2d",
   "metadata": {},
   "outputs": [],
   "source": [
    "test_stat, p_value = shapiro(df.loc[df[\"group\"] == \"control\", \"Purchase\"])"
   ]
  },
  {
   "cell_type": "code",
   "execution_count": 91,
   "id": "3b6db9fc-cd03-4931-8df5-7a30c6f3682b",
   "metadata": {},
   "outputs": [
    {
     "name": "stdout",
     "output_type": "stream",
     "text": [
      "Test Stat: 0.98, p_value: 0.59\n"
     ]
    }
   ],
   "source": [
    "print(f\"Test Stat: {test_stat:.2f}, p_value: {p_value:.2f}\")"
   ]
  },
  {
   "cell_type": "code",
   "execution_count": 93,
   "id": "5ffeb908-4bf6-4f24-b321-48be1c6c7b05",
   "metadata": {},
   "outputs": [],
   "source": [
    "test_stat, p_value = shapiro(df.loc[df[\"group\"] == \"test\", \"Purchase\"])"
   ]
  },
  {
   "cell_type": "code",
   "execution_count": 95,
   "id": "0ba5e3df-c103-455b-a5e6-e6c97427f216",
   "metadata": {},
   "outputs": [
    {
     "name": "stdout",
     "output_type": "stream",
     "text": [
      "Test Stat: 0.96, p_value: 0.15\n"
     ]
    }
   ],
   "source": [
    "print(f\"Test Stat: {test_stat:.2f}, p_value: {p_value:.2f}\")"
   ]
  },
  {
   "cell_type": "markdown",
   "id": "6810d7e7-8194-4dcb-9e67-eb952bcf6c83",
   "metadata": {},
   "source": [
    "#### H0 Reddilmedi"
   ]
  },
  {
   "cell_type": "code",
   "execution_count": 97,
   "id": "2741e254-6eec-4fcf-97a8-f83f0a7fe640",
   "metadata": {},
   "outputs": [],
   "source": [
    "#Varyans Homojenliği\n",
    "#H0: Varyanslar homojendir\n",
    "#H1: Varyanslar homojen değildir\n",
    "#p_value < 0.05 H0 Red"
   ]
  },
  {
   "cell_type": "code",
   "execution_count": 99,
   "id": "de1d5da5-3980-45ed-a513-0e29959ad171",
   "metadata": {},
   "outputs": [],
   "source": [
    "test_stat, p_value = levene(df.loc[df[\"group\"] == \"control\", \"Purchase\"],\n",
    "                            df.loc[df[\"group\"] == \"test\", \"Purchase\"])"
   ]
  },
  {
   "cell_type": "code",
   "execution_count": 101,
   "id": "151ed6ef-c82f-4199-a25a-46faa3108e0b",
   "metadata": {},
   "outputs": [
    {
     "name": "stdout",
     "output_type": "stream",
     "text": [
      "Test Stat: 2.64, p_value:0.11\n"
     ]
    }
   ],
   "source": [
    "print(f\"Test Stat: {test_stat:.2f}, p_value:{p_value:.2f}\")"
   ]
  },
  {
   "cell_type": "markdown",
   "id": "e9b59a7f-a3dd-4f43-9ca3-2519050972b1",
   "metadata": {},
   "source": [
    "#### H0 Reddedilmedi"
   ]
  },
  {
   "cell_type": "code",
   "execution_count": 105,
   "id": "b9248c1e-67ae-4d46-84d6-cf94752332a5",
   "metadata": {},
   "outputs": [],
   "source": [
    "#t testi uygulucaz, varsayımlar sağlandı"
   ]
  },
  {
   "cell_type": "code",
   "execution_count": 107,
   "id": "593d5da7-cf86-40f2-8a54-143ae4974b7f",
   "metadata": {},
   "outputs": [],
   "source": [
    "test_stat, p_value = ttest_ind(df.loc[df[\"group\"] == \"control\", \"Purchase\"],\n",
    "                               df.loc[df[\"group\"] == \"test\", \"Purchase\"], equal_var=True)"
   ]
  },
  {
   "cell_type": "code",
   "execution_count": 109,
   "id": "73bee228-f2a9-4e14-8e57-3ed2df117f01",
   "metadata": {},
   "outputs": [
    {
     "name": "stdout",
     "output_type": "stream",
     "text": [
      "Test Stat: -0.94, p_value: 0.35\n"
     ]
    }
   ],
   "source": [
    "print(f\"Test Stat: {test_stat:.2f}, p_value: {p_value:.2f}\")"
   ]
  },
  {
   "cell_type": "code",
   "execution_count": 111,
   "id": "34b65370-37ad-472c-98c2-cc545f5d75c2",
   "metadata": {},
   "outputs": [],
   "source": [
    "#p_value < 0.05 H0 Red"
   ]
  },
  {
   "cell_type": "markdown",
   "id": "d72fc6b5-0b4b-4bdf-bafc-8540748806d7",
   "metadata": {},
   "source": [
    "### H0 REDDEDİLMEDİ \n",
    "#### ARALARINDA FARK YOKMUŞ DEMEKKİ M1=M2 DİR"
   ]
  },
  {
   "cell_type": "code",
   "execution_count": null,
   "id": "e015dc95-d647-41fb-a520-9c2fcf20b89c",
   "metadata": {},
   "outputs": [],
   "source": []
  }
 ],
 "metadata": {
  "kernelspec": {
   "display_name": "Python 3 (ipykernel)",
   "language": "python",
   "name": "python3"
  },
  "language_info": {
   "codemirror_mode": {
    "name": "ipython",
    "version": 3
   },
   "file_extension": ".py",
   "mimetype": "text/x-python",
   "name": "python",
   "nbconvert_exporter": "python",
   "pygments_lexer": "ipython3",
   "version": "3.12.7"
  }
 },
 "nbformat": 4,
 "nbformat_minor": 5
}
